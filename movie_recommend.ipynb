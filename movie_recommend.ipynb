{
 "cells": [
  {
   "cell_type": "code",
   "execution_count": null,
   "metadata": {},
   "outputs": [],
   "source": [
    "import pandas as pd\n",
    "import numpy as np\n",
    "from keras.utils import to_categorical\n",
    "import keras\n",
    "from keras.models import Sequential, Input, Model\n",
    "from keras.layers import Dense, Embedding, Concatenate, Lambda, Flatten, Multiply, Lambda\n",
    "from random import shuffle\n",
    "import keras.backend as K"
   ]
  },
  {
   "cell_type": "code",
   "execution_count": null,
   "metadata": {},
   "outputs": [],
   "source": [
    "df_movie = pd.read_csv('movie/movies.dat', sep='::', header=None)"
   ]
  },
  {
   "cell_type": "code",
   "execution_count": null,
   "metadata": {},
   "outputs": [],
   "source": [
    "data_movie = df_movie.values"
   ]
  },
  {
   "cell_type": "code",
   "execution_count": null,
   "metadata": {},
   "outputs": [],
   "source": [
    "category_set = set()\n",
    "movie_id_set = set()\n",
    "for movie in data_movie:\n",
    "    movie_id = movie[0]\n",
    "    movie_id_set.add(movie_id)\n",
    "    categories = movie[-1].split('|')\n",
    "    for category in categories:\n",
    "        category_set.add(category)"
   ]
  },
  {
   "cell_type": "code",
   "execution_count": null,
   "metadata": {},
   "outputs": [],
   "source": [
    "category_map = {category : i  for i, category in enumerate(list(category_set))}\n",
    "movie_id_map = {movie_id : i  for i, movie_id in enumerate(list(movie_id_set))}"
   ]
  },
  {
   "cell_type": "code",
   "execution_count": null,
   "metadata": {},
   "outputs": [],
   "source": [
    "movie_categories = {}\n",
    "for movie in data_movie:\n",
    "    movie_id = movie[0]\n",
    "    categories = movie[-1].split('|')\n",
    "    vec = np.zeros(len(category_map))\n",
    "    for category in categories:\n",
    "        vec[category_map[category]] = 1\n",
    "        \n",
    "    movie_categories[movie_id] = vec\n",
    "    "
   ]
  },
  {
   "cell_type": "code",
   "execution_count": null,
   "metadata": {},
   "outputs": [],
   "source": [
    "df_user = pd.read_csv('movie/users.dat', sep='::', header=None)"
   ]
  },
  {
   "cell_type": "code",
   "execution_count": null,
   "metadata": {},
   "outputs": [],
   "source": [
    "data_user = df_user.values"
   ]
  },
  {
   "cell_type": "code",
   "execution_count": null,
   "metadata": {},
   "outputs": [],
   "source": [
    "age_set = set()\n",
    "job_set = set()"
   ]
  },
  {
   "cell_type": "code",
   "execution_count": null,
   "metadata": {},
   "outputs": [],
   "source": [
    "for user in data_user:\n",
    "    user_id, gender, age_id, job_id, _ = user\n",
    "    \n",
    "    age_set.add(age_id)\n",
    "    job_set.add(job_id)"
   ]
  },
  {
   "cell_type": "code",
   "execution_count": null,
   "metadata": {},
   "outputs": [],
   "source": [
    "age_map = {age_id : i for i, age_id in enumerate(list(age_set))}\n",
    "job_map = {job_id : i for i, job_id in enumerate(list(job_set))}"
   ]
  },
  {
   "cell_type": "code",
   "execution_count": null,
   "metadata": {},
   "outputs": [],
   "source": [
    "users_info = {}\n",
    "users_id_set = set()\n",
    "for user in data_user:\n",
    "    user_id, gender, age_id, job_id, _ = user\n",
    "    users_id_set.add(user_id)\n",
    "    users_info[user_id] = [0.0 if gender == 'M' else 1.0] + \\\n",
    "        list(to_categorical(age_map[age_id], len(age_set))) + \\\n",
    "        list(to_categorical(job_map[job_id], len(job_set)))"
   ]
  },
  {
   "cell_type": "code",
   "execution_count": null,
   "metadata": {},
   "outputs": [],
   "source": [
    "user_id_map = {user_id : i  for i, user_id in enumerate(list(users_id_set))}"
   ]
  },
  {
   "cell_type": "code",
   "execution_count": null,
   "metadata": {},
   "outputs": [],
   "source": [
    "df_rating = pd.read_csv('movie/train.csv', sep=',')\n",
    "data_rating = df_rating.values"
   ]
  },
  {
   "cell_type": "code",
   "execution_count": null,
   "metadata": {},
   "outputs": [],
   "source": [
    "data = []\n",
    "\n",
    "for item in data_rating:\n",
    "    user_id, movie_id, rating, _ = item    \n",
    "    if user_id in user_id_map:\n",
    "        x1 = list(movie_categories[movie_id]) + users_info[user_id]\n",
    "        data.append((x1, user_id_map[user_id], movie_id_map[movie_id], rating))"
   ]
  },
  {
   "cell_type": "code",
   "execution_count": null,
   "metadata": {},
   "outputs": [],
   "source": [
    "df_rating.head()"
   ]
  },
  {
   "cell_type": "code",
   "execution_count": 440,
   "metadata": {},
   "outputs": [],
   "source": [
    "Ntrain = int(0.7*len(data))\n",
    "train_data = data#[:Ntrain]\n",
    "test_data = data[Ntrain:]"
   ]
  },
  {
   "cell_type": "code",
   "execution_count": 442,
   "metadata": {},
   "outputs": [],
   "source": [
    "X1train = np.array([item[0] for item in train_data])\n",
    "X2train = np.array([item[1] for item in train_data])\n",
    "X3train = np.array([item[2] for item in train_data])\n",
    "Ytrain = np.array([item[3]**2 for item in train_data])\n",
    "\n",
    "X1test = np.array([item[0] for item in test_data])\n",
    "X2test = np.array([item[1] for item in test_data])\n",
    "X3test = np.array([item[2] for item in test_data])\n",
    "Ytest = np.array([item[3]**2 for item in test_data])"
   ]
  },
  {
   "cell_type": "code",
   "execution_count": 443,
   "metadata": {},
   "outputs": [
    {
     "data": {
      "text/plain": [
       "((500100, 47), (500100,), (500100,))"
      ]
     },
     "execution_count": 443,
     "metadata": {},
     "output_type": "execute_result"
    }
   ],
   "source": [
    "X1train.shape, X2train.shape, X3train.shape"
   ]
  },
  {
   "cell_type": "code",
   "execution_count": 444,
   "metadata": {},
   "outputs": [
    {
     "name": "stdout",
     "output_type": "stream",
     "text": [
      "__________________________________________________________________________________________________\n",
      "Layer (type)                    Output Shape         Param #     Connected to                     \n",
      "==================================================================================================\n",
      "input_137 (InputLayer)          (None, 1)            0                                            \n",
      "__________________________________________________________________________________________________\n",
      "embedding_106 (Embedding)       (None, 1, 1)         3883        input_137[0][0]                  \n",
      "__________________________________________________________________________________________________\n",
      "input_135 (InputLayer)          (None, 47)           0                                            \n",
      "__________________________________________________________________________________________________\n",
      "flatten_106 (Flatten)           (None, 1)            0           embedding_106[0][0]              \n",
      "__________________________________________________________________________________________________\n",
      "concatenate_33 (Concatenate)    (None, 48)           0           input_135[0][0]                  \n",
      "                                                                 flatten_106[0][0]                \n",
      "__________________________________________________________________________________________________\n",
      "dense_60 (Dense)                (None, 5)            245         concatenate_33[0][0]             \n",
      "__________________________________________________________________________________________________\n",
      "dense_61 (Dense)                (None, 1)            6           dense_60[0][0]                   \n",
      "==================================================================================================\n",
      "Total params: 4,134\n",
      "Trainable params: 4,134\n",
      "Non-trainable params: 0\n",
      "__________________________________________________________________________________________________\n"
     ]
    }
   ],
   "source": [
    "x1 = Input(shape=(47, ))\n",
    "\n",
    "x2 = Input(shape=(1,))\n",
    "y2 = Embedding(len(user_id_map), 1)(x2)\n",
    "y2 = Flatten()(y2)\n",
    "\n",
    "x3 = Input(shape=(1,))\n",
    "y3 = Embedding(len(movie_id_map), 1)(x3)\n",
    "y3 = Flatten()(y3)\n",
    "\n",
    "#y = Multiply()([y2, y3])\n",
    "#y = Dense(1, activation='linear')(y)\n",
    "\n",
    "y = Concatenate()([x1, y3])\n",
    "y = Dense(5, activation='relu')(y)\n",
    "y = Dense(1, activation='linear')(y)\n",
    "\n",
    "model = Model(inputs=[x1, x2, x3], outputs=y)\n",
    "\n",
    "model.compile(loss='mse', metrics=['mae'], optimizer='adam')    \n",
    "\n",
    "model.summary()\n"
   ]
  },
  {
   "cell_type": "code",
   "execution_count": 445,
   "metadata": {},
   "outputs": [
    {
     "data": {
      "text/plain": [
       "1172666.0"
      ]
     },
     "execution_count": 445,
     "metadata": {},
     "output_type": "execute_result"
    }
   ],
   "source": [
    "len(user_id_map) * len(movie_id_map) * 0.05"
   ]
  },
  {
   "cell_type": "code",
   "execution_count": 448,
   "metadata": {},
   "outputs": [
    {
     "name": "stdout",
     "output_type": "stream",
     "text": [
      "Epoch 1/1\n",
      "500100/500100 [==============================] - 33s 67us/step - loss: 43.3439 - mean_absolute_error: 5.4077\n"
     ]
    },
    {
     "data": {
      "text/plain": [
       "<keras.callbacks.History at 0x1b503e1b668>"
      ]
     },
     "execution_count": 448,
     "metadata": {},
     "output_type": "execute_result"
    }
   ],
   "source": [
    "model.fit([X1train, X2train, X3train], Ytrain, epochs=1,  verbose=True)"
   ]
  },
  {
   "cell_type": "code",
   "execution_count": 449,
   "metadata": {},
   "outputs": [
    {
     "name": "stdout",
     "output_type": "stream",
     "text": [
      "150030/150030 [==============================] - 6s 43us/step\n"
     ]
    },
    {
     "data": {
      "text/plain": [
       "[44.17054431948083, 5.474001065265463]"
      ]
     },
     "execution_count": 449,
     "metadata": {},
     "output_type": "execute_result"
    }
   ],
   "source": [
    "model.evaluate([X1test, X2test, X3test], Ytest)"
   ]
  },
  {
   "cell_type": "code",
   "execution_count": 433,
   "metadata": {},
   "outputs": [],
   "source": [
    "Y = model.predict([X1test, X2test, X3test]).reshape((-1,))"
   ]
  },
  {
   "cell_type": "code",
   "execution_count": 434,
   "metadata": {},
   "outputs": [],
   "source": [
    "indexes = np.argsort(-Y)"
   ]
  },
  {
   "cell_type": "code",
   "execution_count": 435,
   "metadata": {},
   "outputs": [],
   "source": [
    "scores = []\n",
    "for i in range(7500):\n",
    "    scores.append(Ytest[indexes[i]] ** 0.5)"
   ]
  },
  {
   "cell_type": "code",
   "execution_count": 436,
   "metadata": {},
   "outputs": [
    {
     "name": "stdout",
     "output_type": "stream",
     "text": [
      "4.383066666666667\n"
     ]
    }
   ],
   "source": [
    "print(np.mean(scores))"
   ]
  },
  {
   "cell_type": "code",
   "execution_count": 481,
   "metadata": {},
   "outputs": [],
   "source": [
    "def get_score(user_id, movie_id):\n",
    "    x1 = np.array([list(movie_categories[movie_id]) + users_info[user_id]])\n",
    "    x2 = np.array([user_id_map[user_id]])\n",
    "    x3 = np.array([movie_id_map[movie_id]])\n",
    "    return (model.predict([x1,x2,x3])[0][0]) ** 0.5\n",
    "    "
   ]
  },
  {
   "cell_type": "code",
   "execution_count": 482,
   "metadata": {},
   "outputs": [
    {
     "name": "stdout",
     "output_type": "stream",
     "text": [
      "3.5920744597315033\n"
     ]
    }
   ],
   "source": [
    "print(get_score(2783,2640))"
   ]
  },
  {
   "cell_type": "code",
   "execution_count": 484,
   "metadata": {},
   "outputs": [
    {
     "name": "stdout",
     "output_type": "stream",
     "text": [
      "10000\n",
      "20000\n",
      "30000\n",
      "40000\n",
      "50000\n",
      "60000\n",
      "70000\n",
      "80000\n",
      "90000\n",
      "100000\n",
      "110000\n",
      "120000\n",
      "130000\n",
      "140000\n",
      "150000\n",
      "160000\n",
      "170000\n",
      "180000\n",
      "190000\n",
      "200000\n",
      "210000\n",
      "220000\n",
      "230000\n",
      "240000\n",
      "250000\n",
      "260000\n",
      "270000\n",
      "280000\n",
      "290000\n",
      "300000\n",
      "310000\n",
      "320000\n",
      "330000\n",
      "340000\n",
      "350000\n",
      "360000\n",
      "370000\n",
      "380000\n",
      "390000\n",
      "400000\n",
      "410000\n",
      "420000\n",
      "430000\n",
      "440000\n",
      "450000\n",
      "460000\n",
      "470000\n",
      "480000\n",
      "490000\n",
      "500000\n"
     ]
    }
   ],
   "source": [
    "out_data = []\n",
    "with open('movie/sample_submission.csv') as f:\n",
    "    for line in f:\n",
    "        user_id, _, user_movie = line.strip().split(',')\n",
    "        if user_id != 'user':\n",
    "            _, movie_id = user_movie.split('_')\n",
    "            user_id = int(user_id)\n",
    "            movie_id = int(movie_id)\n",
    "            score = get_score(user_id, movie_id)\n",
    "            out_data.append((user_id, movie_id, score))\n",
    "            if len(out_data) % 10000 == 0:\n",
    "                print(len(out_data))"
   ]
  },
  {
   "cell_type": "code",
   "execution_count": 486,
   "metadata": {},
   "outputs": [],
   "source": [
    "with open('submisson.csv', 'w') as f:\n",
    "    f.write('user,rating,id\\n')\n",
    "    for user_id, movie_id, score in out_data:\n",
    "        f.write(f'{user_id},{round(score,1)},{user_id}_{movie_id}\\n')"
   ]
  },
  {
   "cell_type": "code",
   "execution_count": null,
   "metadata": {},
   "outputs": [],
   "source": [
    "users_info = {}\n",
    "for user in data_user:\n",
    "    user_id, gender, age_id, job_id, _ = user\n",
    "    users_info[user_id] = {'gender' : gender, 'age_id' : age_id, 'job_id' : job_id}"
   ]
  },
  {
   "cell_type": "code",
   "execution_count": null,
   "metadata": {},
   "outputs": [],
   "source": [
    "movie_categories = {}\n",
    "for movie in data_movie:\n",
    "    movie_id = movie[0]        \n",
    "    movie_categories[movie_id] = list(map(lambda x : category_map[x],  movie[-1].split('|')))\n"
   ]
  },
  {
   "cell_type": "code",
   "execution_count": null,
   "metadata": {},
   "outputs": [],
   "source": [
    "df_rating.head()"
   ]
  },
  {
   "cell_type": "code",
   "execution_count": null,
   "metadata": {},
   "outputs": [],
   "source": [
    "M = np.zeros"
   ]
  },
  {
   "cell_type": "code",
   "execution_count": null,
   "metadata": {},
   "outputs": [],
   "source": [
    "df_rating['age_id'] = df_rating['user'].apply(lambda x : users_info[x]['age_id'])\n",
    "df_rating['job_id'] = df_rating['user'].apply(lambda x : users_info[x]['job_id'])\n",
    "df_rating['gender'] = df_rating['user'].apply(lambda x : users_info[x]['gender'])"
   ]
  },
  {
   "cell_type": "code",
   "execution_count": null,
   "metadata": {},
   "outputs": [],
   "source": [
    "scores = {}\n",
    "\n",
    "for age_id, df in  df_rating.groupby('age_id'):\n",
    "    score = [[] for _ in range(len(category_map))]\n",
    "        \n",
    "    for movie, rating in df[['movie','rating']].values:\n",
    "        for categ in movie_categories[movie]:\n",
    "            score[categ].append(rating)\n",
    "            \n",
    "    score = [np.mean(x) for x in score]\n",
    "    scores[age_id] = score\n",
    "    "
   ]
  },
  {
   "cell_type": "code",
   "execution_count": null,
   "metadata": {},
   "outputs": [],
   "source": [
    "from sklearn.metrics.pairwise import cosine_similarity"
   ]
  },
  {
   "cell_type": "code",
   "execution_count": null,
   "metadata": {},
   "outputs": [],
   "source": [
    "from numpy import dot\n",
    "from numpy.linalg import norm\n",
    "\n",
    "cos_sim = lambda a,b : dot(a, b)/(norm(a)*norm(b))"
   ]
  },
  {
   "cell_type": "code",
   "execution_count": null,
   "metadata": {},
   "outputs": [],
   "source": [
    "scores.keys()"
   ]
  },
  {
   "cell_type": "code",
   "execution_count": null,
   "metadata": {},
   "outputs": [],
   "source": [
    "scores[56]"
   ]
  },
  {
   "cell_type": "code",
   "execution_count": null,
   "metadata": {},
   "outputs": [],
   "source": []
  }
 ],
 "metadata": {
  "kernelspec": {
   "display_name": "Python 3",
   "language": "python",
   "name": "python3"
  },
  "language_info": {
   "codemirror_mode": {
    "name": "ipython",
    "version": 3
   },
   "file_extension": ".py",
   "mimetype": "text/x-python",
   "name": "python",
   "nbconvert_exporter": "python",
   "pygments_lexer": "ipython3",
   "version": "3.7.3"
  }
 },
 "nbformat": 4,
 "nbformat_minor": 2
}
